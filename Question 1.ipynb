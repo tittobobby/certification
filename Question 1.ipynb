{
 "cells": [
  {
   "cell_type": "code",
   "execution_count": 4,
   "id": "1b4885bf",
   "metadata": {},
   "outputs": [],
   "source": [
    "# importing libraries\n",
    "import iso639\n",
    "import requests\n",
    "import tweepy\n",
    "from langdetect import detect\n",
    "import ipywidgets as widgets\n",
    "import matplotlib.pyplot as plt\n",
    "import pandas as pd\n",
    "import plotly.express as px\n",
    "\n",
    "%matplotlib inline"
   ]
  },
  {
   "cell_type": "code",
   "execution_count": 5,
   "id": "cc795d9c",
   "metadata": {},
   "outputs": [],
   "source": [
    "# credentials from twitter developer account\n",
    "API_key='qlYBGnINW1bJqaKn7tNQgxyF0'\n",
    "API_key_secret='RIW7NfvPW31BrLdzr4m1k2WVAyQl1fuiEzv3eBVqbIvGUdpIZv'\n",
    "Access_token='1574104217790296064-Fa7pn5GFRqBWqp2OPizmylw3oQJbWX'\n",
    "Access_token_secret='WhSomQxicE9jqQLPqEH10OvOr7T2yCRMMGV7A5ppH39aq'"
   ]
  },
  {
   "cell_type": "code",
   "execution_count": 6,
   "id": "3409c94b",
   "metadata": {},
   "outputs": [],
   "source": [
    "# Authentication handler with tweepy\n",
    "authenticate = tweepy.OAuthHandler(API_key,API_key_secret)"
   ]
  },
  {
   "cell_type": "code",
   "execution_count": 7,
   "id": "b9b18984",
   "metadata": {},
   "outputs": [],
   "source": [
    "# Setting access tokens to the handler\n",
    "authenticate.set_access_token(Access_token,Access_token_secret)"
   ]
  },
  {
   "cell_type": "code",
   "execution_count": 8,
   "id": "019f3b23",
   "metadata": {},
   "outputs": [],
   "source": [
    "# defining api \n",
    "API = tweepy.API(authenticate,wait_on_rate_limit=True)"
   ]
  },
  {
   "cell_type": "markdown",
   "id": "252562e8",
   "metadata": {},
   "source": [
    "### For trends in India we have to get where on earth id(woeid)"
   ]
  },
  {
   "cell_type": "code",
   "execution_count": 9,
   "id": "fd71b4ee",
   "metadata": {},
   "outputs": [],
   "source": [
    "woeid=23424848"
   ]
  },
  {
   "cell_type": "markdown",
   "id": "3b6861b5",
   "metadata": {},
   "source": [
    "### Get twitter Trends By WOEID"
   ]
  },
  {
   "cell_type": "code",
   "execution_count": 10,
   "id": "eda7aed8",
   "metadata": {},
   "outputs": [
    {
     "data": {
      "text/html": [
       "<div>\n",
       "<style scoped>\n",
       "    .dataframe tbody tr th:only-of-type {\n",
       "        vertical-align: middle;\n",
       "    }\n",
       "\n",
       "    .dataframe tbody tr th {\n",
       "        vertical-align: top;\n",
       "    }\n",
       "\n",
       "    .dataframe thead th {\n",
       "        text-align: right;\n",
       "    }\n",
       "</style>\n",
       "<table border=\"1\" class=\"dataframe\">\n",
       "  <thead>\n",
       "    <tr style=\"text-align: right;\">\n",
       "      <th></th>\n",
       "      <th>Trends</th>\n",
       "      <th>Volume</th>\n",
       "      <th>Language</th>\n",
       "    </tr>\n",
       "  </thead>\n",
       "  <tbody>\n",
       "    <tr>\n",
       "      <th>29</th>\n",
       "      <td>#ARSD</td>\n",
       "      <td>10027.0</td>\n",
       "      <td>Tagalog</td>\n",
       "    </tr>\n",
       "    <tr>\n",
       "      <th>12</th>\n",
       "      <td>HOPEFULLY ABHIMANYU IS FREE</td>\n",
       "      <td>10330.0</td>\n",
       "      <td>German</td>\n",
       "    </tr>\n",
       "    <tr>\n",
       "      <th>38</th>\n",
       "      <td>#cabinetreshuffle</td>\n",
       "      <td>11169.0</td>\n",
       "      <td>Italian</td>\n",
       "    </tr>\n",
       "    <tr>\n",
       "      <th>45</th>\n",
       "      <td>#Vi20FANfest</td>\n",
       "      <td>11263.0</td>\n",
       "      <td>Norwegian</td>\n",
       "    </tr>\n",
       "    <tr>\n",
       "      <th>10</th>\n",
       "      <td>Sushant Honest 2His Work</td>\n",
       "      <td>12088.0</td>\n",
       "      <td>English</td>\n",
       "    </tr>\n",
       "    <tr>\n",
       "      <th>17</th>\n",
       "      <td>विजय चौधरी</td>\n",
       "      <td>12108.0</td>\n",
       "      <td>Nepali</td>\n",
       "    </tr>\n",
       "    <tr>\n",
       "      <th>18</th>\n",
       "      <td>सचिन पायलट</td>\n",
       "      <td>14037.0</td>\n",
       "      <td>Nepali</td>\n",
       "    </tr>\n",
       "    <tr>\n",
       "      <th>30</th>\n",
       "      <td>#Sarpatta2</td>\n",
       "      <td>14568.0</td>\n",
       "      <td>Italian</td>\n",
       "    </tr>\n",
       "    <tr>\n",
       "      <th>37</th>\n",
       "      <td>#GodNightMonday</td>\n",
       "      <td>15709.0</td>\n",
       "      <td>English</td>\n",
       "    </tr>\n",
       "    <tr>\n",
       "      <th>21</th>\n",
       "      <td>पुस्तक ज्ञान गंगा</td>\n",
       "      <td>16148.0</td>\n",
       "      <td>Hindi</td>\n",
       "    </tr>\n",
       "  </tbody>\n",
       "</table>\n",
       "</div>"
      ],
      "text/plain": [
       "                         Trends   Volume   Language\n",
       "29                        #ARSD  10027.0    Tagalog\n",
       "12  HOPEFULLY ABHIMANYU IS FREE  10330.0     German\n",
       "38            #cabinetreshuffle  11169.0    Italian\n",
       "45                 #Vi20FANfest  11263.0  Norwegian\n",
       "10     Sushant Honest 2His Work  12088.0    English\n",
       "17                   विजय चौधरी  12108.0     Nepali\n",
       "18                   सचिन पायलट  14037.0     Nepali\n",
       "30                   #Sarpatta2  14568.0    Italian\n",
       "37              #GodNightMonday  15709.0    English\n",
       "21            पुस्तक ज्ञान गंगा  16148.0      Hindi"
      ]
     },
     "execution_count": 10,
     "metadata": {},
     "output_type": "execute_result"
    }
   ],
   "source": [
    "\n",
    "def get_trends_by_location(loc_id,count):\n",
    "    '''Get Trending Tweets by Location'''\n",
    "    \n",
    "    try:\n",
    "        trends = API.get_place_trends(loc_id)\n",
    "        df = pd.DataFrame([trending['name'],  trending['tweet_volume'], iso639.to_name(detect(trending['name']))] for trending in trends[0]['trends'])\n",
    "        df.columns = ['Trends','Volume','Language']\n",
    "        df = df.sort_values('Volume', ascending = True) \n",
    "        return(df[:count])\n",
    "    except Exception as e:\n",
    "        print(\"An exception occurred\",e)\n",
    "        \n",
    "        \n",
    "df_india_trends = get_trends_by_location(23424848, 10)\n",
    "df_india_trends"
   ]
  },
  {
   "cell_type": "code",
   "execution_count": 11,
   "id": "e95c7a4a",
   "metadata": {},
   "outputs": [],
   "source": [
    "# Setting style for slider widget\n",
    "style={'description_width':'initial'}"
   ]
  },
  {
   "cell_type": "code",
   "execution_count": 12,
   "id": "70c412cb",
   "metadata": {},
   "outputs": [],
   "source": [
    "# setting limits, default value and other values for slider\n",
    "limit_case = widgets.IntSlider(value=10,min=5,max=50,step=1,description='Top:',disabled=False,style=style)"
   ]
  },
  {
   "cell_type": "code",
   "execution_count": 13,
   "id": "041adb99",
   "metadata": {},
   "outputs": [],
   "source": [
    "# defining a function to plot data\n",
    "def top_n_trends(n):\n",
    "    ''' Function Prints top n trending topics in India in last 24 hours, and plots out barchart for number of posts for those topics(if available on API) \n",
    "    n: number of topics'''\n",
    "    # creating a Dataframe for topics and volume\n",
    "    df = pd.DataFrame([(j['name'],j['tweet_volume']) for j in API.get_place_trends(id=woeid)[0]['trends'][:n]],columns=(['Topic','volume']))\n",
    "    # Plotting Top N topics\n",
    "    px.bar(df,x='Topic',y='volume',hover_data=['Topic','volume'],color='Topic').show()"
   ]
  },
  {
   "cell_type": "code",
   "execution_count": 14,
   "id": "e9f2dc13",
   "metadata": {},
   "outputs": [
    {
     "data": {
      "application/vnd.jupyter.widget-view+json": {
       "model_id": "f4361ca7febe427f807a2ce28dba0c55",
       "version_major": 2,
       "version_minor": 0
      },
      "text/plain": [
       "interactive(children=(IntSlider(value=10, description='Top:', max=50, min=5, style=SliderStyle(description_wid…"
      ]
     },
     "metadata": {},
     "output_type": "display_data"
    }
   ],
   "source": [
    "widgets.interactive(top_n_trends,n=limit_case)"
   ]
  },
  {
   "cell_type": "code",
   "execution_count": null,
   "id": "493ecd01",
   "metadata": {},
   "outputs": [],
   "source": []
  }
 ],
 "metadata": {
  "kernelspec": {
   "display_name": "Python 3 (ipykernel)",
   "language": "python",
   "name": "python3"
  },
  "language_info": {
   "codemirror_mode": {
    "name": "ipython",
    "version": 3
   },
   "file_extension": ".py",
   "mimetype": "text/x-python",
   "name": "python",
   "nbconvert_exporter": "python",
   "pygments_lexer": "ipython3",
   "version": "3.9.12"
  }
 },
 "nbformat": 4,
 "nbformat_minor": 5
}
